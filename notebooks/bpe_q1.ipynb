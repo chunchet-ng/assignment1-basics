{
 "cells": [
  {
   "cell_type": "code",
   "execution_count": 1,
   "id": "40c0f8f0-f951-43af-9123-81d9ad947828",
   "metadata": {
    "tags": []
   },
   "outputs": [
    {
     "data": {
      "text/plain": [
       "'\\x00'"
      ]
     },
     "execution_count": 1,
     "metadata": {},
     "output_type": "execute_result"
    }
   ],
   "source": [
    "chr(0)"
   ]
  },
  {
   "cell_type": "code",
   "execution_count": 2,
   "id": "fe863bb2-43f9-4f0e-8712-4f9bf4418bc0",
   "metadata": {
    "tags": []
   },
   "outputs": [
    {
     "data": {
      "text/plain": [
       "'牛'"
      ]
     },
     "execution_count": 2,
     "metadata": {},
     "output_type": "execute_result"
    }
   ],
   "source": [
    "chr(29275)"
   ]
  },
  {
   "cell_type": "code",
   "execution_count": 3,
   "id": "960be5ef-c6d9-4fcd-beab-0b89044be4b3",
   "metadata": {
    "tags": []
   },
   "outputs": [
    {
     "name": "stdout",
     "output_type": "stream",
     "text": [
      "'\\n'\n",
      "start\n",
      "\n",
      "\n",
      "end\n"
     ]
    }
   ],
   "source": [
    "'''\n",
    "String representation (__repr__() or repr()):\n",
    "\n",
    "Shows the character as it would appear in Python code\n",
    "Includes quotes and escape sequences for special characters\n",
    "Designed to be unambiguous and \"eval-able\" when possible\n",
    "\n",
    "Printed representation (__str__() or print()):\n",
    "\n",
    "Shows the character as it would appear when displayed to a user\n",
    "No quotes, shows the actual visual character\n",
    "'''\n",
    "char = chr(10)  # newline\n",
    "print(repr(char))  # '\\n'\n",
    "print('start')\n",
    "print(char)\n",
    "print('end')"
   ]
  },
  {
   "cell_type": "code",
   "execution_count": 4,
   "id": "6a6af97b-a3f0-4e19-9cfc-e6dc6547cb71",
   "metadata": {
    "tags": []
   },
   "outputs": [
    {
     "name": "stdout",
     "output_type": "stream",
     "text": [
      "\u0000\n"
     ]
    }
   ],
   "source": [
    "chr(0)\n",
    "print(chr(0))"
   ]
  },
  {
   "cell_type": "code",
   "execution_count": 5,
   "id": "ef598ae4-a12f-4616-b440-aca2dad9dcea",
   "metadata": {
    "tags": []
   },
   "outputs": [
    {
     "name": "stdout",
     "output_type": "stream",
     "text": [
      "this is a test\u0000string\n"
     ]
    }
   ],
   "source": [
    "# chr(0) is a null string\n",
    "print(\"this is a test\" + chr(0) + \"string\")"
   ]
  }
 ],
 "metadata": {
  "kernelspec": {
   "display_name": "Python 3 (ipykernel)",
   "language": "python",
   "name": "python3"
  },
  "language_info": {
   "codemirror_mode": {
    "name": "ipython",
    "version": 3
   },
   "file_extension": ".py",
   "mimetype": "text/x-python",
   "name": "python",
   "nbconvert_exporter": "python",
   "pygments_lexer": "ipython3",
   "version": "3.11.7"
  }
 },
 "nbformat": 4,
 "nbformat_minor": 5
}
